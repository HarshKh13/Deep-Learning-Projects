{
 "cells": [
  {
   "cell_type": "markdown",
   "metadata": {},
   "source": [
    "# Image Classification\n",
    "In this notebook Image classification is implemented for dataset of 10 different animals. The images are preprocessed and then a convolutional neural network is trained on all the samples. Convolutional, Dropout, Max Pooling and and fully connected networks are build. At the end there is network prediction on sample images."
   ]
  },
  {
   "cell_type": "code",
   "execution_count": 1,
   "metadata": {},
   "outputs": [],
   "source": [
    "#Importing the required libraries\n",
    "\n",
    "import numpy as np\n",
    "import cv2\n",
    "import os\n",
    "import matplotlib.pyplot as plt\n",
    "import tensorflow as tf\n",
    "import random\n",
    "from tensorflow import keras\n",
    "from tensorflow.keras import layers"
   ]
  },
  {
   "cell_type": "markdown",
   "metadata": {},
   "source": [
    "# Dataset\n",
    "There are 10 different directories for different animals in main directory, each of which consists of variable number of images. The images are loaded using openCV and converted to pre-defined size of image and gray-scale therby reducing the total number of channels from 3 to 1. \n",
    "The extracted image array and label of that image are stored as tuples in the 'Complete_data' list."
   ]
  },
  {
   "cell_type": "code",
   "execution_count": 2,
   "metadata": {},
   "outputs": [],
   "source": [
    "#Dataset is loaded from the directory.\n",
    "\n",
    "datadir = 'animals'\n",
    "complete_data = []\n",
    "img_size = 32\n",
    "def load_data(datadir):\n",
    "    class_num = 0\n",
    "    for directory in os.listdir(datadir):\n",
    "        path = os.path.join(datadir,directory)\n",
    "        for image in os.listdir(path):\n",
    "            img_path = os.path.join(path,image)\n",
    "            img_arr = cv2.imread(img_path)\n",
    "            img_arr = cv2.cvtColor(img_arr,cv2.COLOR_BGR2GRAY)\n",
    "            new_arr = cv2.resize(img_arr,(img_size,img_size))\n",
    "            new_arr = np.array(new_arr)\n",
    "            complete_data.append([new_arr,class_num])\n",
    "            \n",
    "        class_num += 1\n",
    "\n",
    "load_data(datadir)"
   ]
  },
  {
   "cell_type": "code",
   "execution_count": 3,
   "metadata": {},
   "outputs": [
    {
     "name": "stdout",
     "output_type": "stream",
     "text": [
      "0 cane\n",
      "1 cavallo\n",
      "2 elefante\n",
      "3 farfalla\n",
      "4 gallina\n",
      "5 gatto\n",
      "6 mucca\n",
      "7 pecora\n",
      "8 ragno\n",
      "9 scoiattolo\n"
     ]
    }
   ],
   "source": [
    "names = []\n",
    "for name in os.listdir(datadir):\n",
    "    names.append(name)\n",
    "\n",
    "for i,name in enumerate(names):\n",
    "    print(i,name)"
   ]
  },
  {
   "cell_type": "code",
   "execution_count": 4,
   "metadata": {},
   "outputs": [
    {
     "name": "stdout",
     "output_type": "stream",
     "text": [
      "26179\n",
      "(32, 32)\n"
     ]
    }
   ],
   "source": [
    "print(len(complete_data))\n",
    "random.shuffle(complete_data)\n",
    "x = []\n",
    "y = []\n",
    "for features,labels in complete_data:\n",
    "    x.append(features)\n",
    "    y.append(labels)\n",
    "print(x[0].shape)"
   ]
  },
  {
   "cell_type": "markdown",
   "metadata": {},
   "source": [
    "# Normalisation\n",
    "The normalisation function is implemented in the cell below which converts all pixel values between 0 and 1 (inclusive)."
   ]
  },
  {
   "cell_type": "code",
   "execution_count": 5,
   "metadata": {},
   "outputs": [
    {
     "name": "stdout",
     "output_type": "stream",
     "text": [
      "Pixels of Images without Normalisation\n",
      "[[ 67 141 158 ...  19  42 121]\n",
      " [ 80 126 146 ...  71 124  31]\n",
      " [132 119 127 ...  77  49  35]\n",
      " ...\n",
      " [203 178 182 ...  96 145 106]\n",
      " [166 151 163 ... 139 188 118]\n",
      " [176 207 163 ... 140 133  97]]\n",
      "\n",
      "\n",
      "Pixels after Normalisation\n",
      "[[0.2627451  0.55294118 0.61960784 ... 0.0745098  0.16470588 0.4745098 ]\n",
      " [0.31372549 0.49411765 0.57254902 ... 0.27843137 0.48627451 0.12156863]\n",
      " [0.51764706 0.46666667 0.49803922 ... 0.30196078 0.19215686 0.1372549 ]\n",
      " ...\n",
      " [0.79607843 0.69803922 0.71372549 ... 0.37647059 0.56862745 0.41568627]\n",
      " [0.65098039 0.59215686 0.63921569 ... 0.54509804 0.7372549  0.4627451 ]\n",
      " [0.69019608 0.81176471 0.63921569 ... 0.54901961 0.52156863 0.38039216]]\n"
     ]
    }
   ],
   "source": [
    "def normalise(x):\n",
    "    min_value = 0\n",
    "    max_value = 255\n",
    "    normalised = np.array((x-min_value)/(max_value-min_value))\n",
    "    return normalised\n",
    "\n",
    "x_normal = normalise(np.array(x))\n",
    "print('Pixels of Images without Normalisation')\n",
    "print(x[0])\n",
    "print('\\n')\n",
    "print('Pixels after Normalisation')\n",
    "print(x_normal[0])"
   ]
  },
  {
   "cell_type": "code",
   "execution_count": 6,
   "metadata": {},
   "outputs": [
    {
     "name": "stdout",
     "output_type": "stream",
     "text": [
      "Number of train samples:  20943\n",
      "Number of valid samples:  1570\n",
      "Number of test samples:  3666\n",
      "\n",
      "\n",
      "[[0.00784314 0.00784314 0.00784314 ... 0.18823529 0.18039216 0.2       ]\n",
      " [0.00784314 0.00784314 0.00784314 ... 0.21568627 0.23137255 0.20784314]\n",
      " [0.00784314 0.00784314 0.00784314 ... 0.20784314 0.22745098 0.19215686]\n",
      " ...\n",
      " [0.18431373 0.17254902 0.25882353 ... 0.35294118 0.38431373 0.38039216]\n",
      " [0.25490196 0.27058824 0.29019608 ... 0.39215686 0.39215686 0.41176471]\n",
      " [0.29019608 0.30588235 0.28235294 ... 0.32941176 0.26666667 0.13333333]]\n"
     ]
    }
   ],
   "source": [
    "def split_data(x,y,train_size=0.8,valid_size=0.06,shuffle=True):\n",
    "    size = len(x)\n",
    "    indices = np.arange(size)\n",
    "    if shuffle==True:\n",
    "        np.random.shuffle(indices)\n",
    "        \n",
    "    train_samples = int(train_size*size)\n",
    "    valid_samples = int(valid_size*size)\n",
    "    x_train = x[indices[:train_samples]]\n",
    "    y_train = y[indices[:train_samples]]\n",
    "    x_valid = x[indices[train_samples:train_samples+valid_samples]]\n",
    "    y_valid = y[indices[train_samples:train_samples+valid_samples]]\n",
    "    x_test = x[indices[train_samples+valid_samples:]]\n",
    "    y_test = y[indices[train_samples+valid_samples:]]\n",
    "    \n",
    "    return x_train,y_train,x_valid,y_valid,x_test,y_test\n",
    "\n",
    "x_train,y_train,x_valid,y_valid,x_test,y_test = split_data(np.array(x_normal),np.array(y))\n",
    "print(\"Number of train samples: \",len(x_train))\n",
    "print(\"Number of valid samples: \",len(x_valid))\n",
    "print(\"Number of test samples: \",len(x_test))\n",
    "print('\\n')\n",
    "print(x_train[0])"
   ]
  },
  {
   "cell_type": "markdown",
   "metadata": {},
   "source": [
    "# Some sample Images"
   ]
  },
  {
   "cell_type": "code",
   "execution_count": 7,
   "metadata": {},
   "outputs": [
    {
     "data": {
      "image/png": "[encoded data removed]",
      "text/plain": [
       "<Figure size 432x288 with 5 Axes>"
      ]
     },
     "metadata": {
      "needs_background": "light"
     },
     "output_type": "display_data"
    }
   ],
   "source": [
    "for i in range(5):\n",
    "    plt.subplot(2,3,i+1)\n",
    "    plt.imshow(255*x_train[i])\n",
    "    plt.title(y_train[i])"
   ]
  },
  {
   "cell_type": "markdown",
   "metadata": {},
   "source": [
    "# Model\n",
    "The model has three convolutional layers followed by relu activation and Max Pooling. The final feature vector has 64 feature maps of shape(4,4). This layer is flattend and fed into fully-connected network having 2 hidden layers and a output layer. The final output layer has 10 nodes each of which gives probability for the image to be a certain animal corresponding to the names list."
   ]
  },
  {
   "cell_type": "code",
   "execution_count": 8,
   "metadata": {},
   "outputs": [
    {
     "name": "stdout",
     "output_type": "stream",
     "text": [
      "Model: \"functional_1\"\n",
      "_________________________________________________________________\n",
      "Layer (type)                 Output Shape              Param #   \n",
      "=================================================================\n",
      "image (InputLayer)           [(None, 32, 32, 1)]       0         \n",
      "_________________________________________________________________\n",
      "Conv1 (Conv2D)               (None, 32, 32, 16)        160       \n",
      "_________________________________________________________________\n",
      "Pool1 (MaxPooling2D)         (None, 16, 16, 16)        0         \n",
      "_________________________________________________________________\n",
      "Conv2 (Conv2D)               (None, 16, 16, 32)        4640      \n",
      "_________________________________________________________________\n",
      "Pool2 (MaxPooling2D)         (None, 8, 8, 32)          0         \n",
      "_________________________________________________________________\n",
      "Conv3 (Conv2D)               (None, 8, 8, 64)          18496     \n",
      "_________________________________________________________________\n",
      "Pool3 (MaxPooling2D)         (None, 4, 4, 64)          0         \n",
      "_________________________________________________________________\n",
      "flatten (Flatten)            (None, 1024)              0         \n",
      "_________________________________________________________________\n",
      "hidden1 (Dense)              (None, 256)               262400    \n",
      "_________________________________________________________________\n",
      "dropout (Dropout)            (None, 256)               0         \n",
      "_________________________________________________________________\n",
      "hidden2 (Dense)              (None, 128)               32896     \n",
      "_________________________________________________________________\n",
      "dropout_1 (Dropout)          (None, 128)               0         \n",
      "_________________________________________________________________\n",
      "output (Dense)               (None, 10)                1290      \n",
      "=================================================================\n",
      "Total params: 319,882\n",
      "Trainable params: 319,882\n",
      "Non-trainable params: 0\n",
      "_________________________________________________________________\n"
     ]
    }
   ],
   "source": [
    "def build_model():\n",
    "    inputs = layers.Input(shape=(img_size,img_size,1),name=\"image\",dtype=np.float32)\n",
    "    x = layers.Conv2D(16,(3,3),\n",
    "                     activation=\"relu\",\n",
    "                     padding = \"same\",\n",
    "                     name = \"Conv1\")(inputs)\n",
    "    \n",
    "    x = layers.MaxPooling2D((2,2),name='Pool1')(x)\n",
    "    x = layers.Conv2D(32,(3,3),\n",
    "                     activation=\"relu\",\n",
    "                     padding = \"same\",\n",
    "                     name = \"Conv2\")(x)\n",
    "    x = layers.MaxPooling2D((2,2),name='Pool2')(x)\n",
    "    x = layers.Conv2D(64,(3,3),\n",
    "                     activation=\"relu\",\n",
    "                     padding = \"same\",\n",
    "                     name = \"Conv3\")(x)\n",
    "    x = layers.MaxPooling2D((2,2),name='Pool3')(x)\n",
    "    x = layers.Flatten()(x)\n",
    "    x = tf.keras.layers.Dense(256,activation='relu',name='hidden1')(x)\n",
    "    x = layers.Dropout(0.1)(x)\n",
    "    x = tf.keras.layers.Dense(128,activation='relu',name='hidden2')(x)\n",
    "    x = layers.Dropout(0.1)(x)\n",
    "    outputs = tf.keras.layers.Dense(10,activation='softmax',name='output')(x)\n",
    "    model = tf.keras.models.Model(inputs=inputs, outputs=outputs)\n",
    "    model.compile(optimizer=\"Adam\", loss=\"sparse_categorical_crossentropy\", metrics=[\"accuracy\"])\n",
    "    return model\n",
    "\n",
    "model = build_model()\n",
    "model.summary()"
   ]
  },
  {
   "cell_type": "markdown",
   "metadata": {},
   "source": [
    "# Training the Network"
   ]
  },
  {
   "cell_type": "code",
   "execution_count": 9,
   "metadata": {},
   "outputs": [
    {
     "name": "stdout",
     "output_type": "stream",
     "text": [
      "Epoch 1/20\n",
      "1048/1048 [==============================] - 15s 14ms/step - loss: 1.9963 - accuracy: 0.2908 - val_loss: 1.7179 - val_accuracy: 0.4051\n",
      "Epoch 2/20\n",
      "1048/1048 [==============================] - 18s 17ms/step - loss: 1.6108 - accuracy: 0.4436 - val_loss: 1.4864 - val_accuracy: 0.4911\n",
      "Epoch 3/20\n",
      "1048/1048 [==============================] - 21s 20ms/step - loss: 1.4422 - accuracy: 0.5022 - val_loss: 1.4831 - val_accuracy: 0.4898\n",
      "Epoch 4/20\n",
      "1048/1048 [==============================] - 25s 24ms/step - loss: 1.3256 - accuracy: 0.5427 - val_loss: 1.3700 - val_accuracy: 0.5280\n",
      "Epoch 5/20\n",
      "1048/1048 [==============================] - 20s 19ms/step - loss: 1.2257 - accuracy: 0.5747 - val_loss: 1.3805 - val_accuracy: 0.5376\n",
      "Epoch 6/20\n",
      "1048/1048 [==============================] - 17s 16ms/step - loss: 1.1302 - accuracy: 0.6107 - val_loss: 1.3185 - val_accuracy: 0.5611\n",
      "Epoch 7/20\n",
      "1048/1048 [==============================] - 17s 16ms/step - loss: 1.0369 - accuracy: 0.6417 - val_loss: 1.3623 - val_accuracy: 0.5529\n",
      "Epoch 8/20\n",
      "1048/1048 [==============================] - 17s 16ms/step - loss: 0.9484 - accuracy: 0.6732 - val_loss: 1.3608 - val_accuracy: 0.5732\n",
      "Epoch 9/20\n",
      "1048/1048 [==============================] - 17s 16ms/step - loss: 0.8591 - accuracy: 0.7036 - val_loss: 1.4078 - val_accuracy: 0.5529\n",
      "Epoch 10/20\n",
      "1048/1048 [==============================] - 17s 16ms/step - loss: 0.7639 - accuracy: 0.7351 - val_loss: 1.5224 - val_accuracy: 0.5541\n",
      "Epoch 11/20\n",
      "1048/1048 [==============================] - 18s 17ms/step - loss: 0.6991 - accuracy: 0.7571 - val_loss: 1.5810 - val_accuracy: 0.5682\n",
      "Epoch 12/20\n",
      "1048/1048 [==============================] - 17s 16ms/step - loss: 0.6220 - accuracy: 0.7832 - val_loss: 1.6306 - val_accuracy: 0.5541oss: 0.6220 - accuracy: 0.\n",
      "Epoch 13/20\n",
      "1048/1048 [==============================] - 17s 16ms/step - loss: 0.5456 - accuracy: 0.8094 - val_loss: 1.6926 - val_accuracy: 0.5522\n",
      "Epoch 14/20\n",
      "1048/1048 [==============================] - 17s 16ms/step - loss: 0.4881 - accuracy: 0.8314 - val_loss: 1.8368 - val_accuracy: 0.5459\n",
      "Epoch 15/20\n",
      "1048/1048 [==============================] - 17s 16ms/step - loss: 0.4544 - accuracy: 0.8431 - val_loss: 2.0739 - val_accuracy: 0.5325\n",
      "Epoch 16/20\n",
      "1048/1048 [==============================] - 17s 17ms/step - loss: 0.4127 - accuracy: 0.8542 - val_loss: 1.9609 - val_accuracy: 0.5363\n"
     ]
    },
    {
     "data": {
      "text/plain": [
       "<tensorflow.python.keras.callbacks.History at 0x1af58bd0e08>"
      ]
     },
     "execution_count": 9,
     "metadata": {},
     "output_type": "execute_result"
    }
   ],
   "source": [
    "num_epochs = 20\n",
    "early_stopping_patience = 10\n",
    "\n",
    "early_stopping = keras.callbacks.EarlyStopping(\n",
    "    monitor=\"val_loss\", patience=early_stopping_patience, restore_best_weights=True\n",
    ")\n",
    "batch_size = 20\n",
    "validation_dataset = (x_valid,y_valid)\n",
    "model.fit(x_train,y_train,batch_size=batch_size,\n",
    "          validation_data = validation_dataset,\n",
    "          epochs=num_epochs,\n",
    "         callbacks=[early_stopping])"
   ]
  },
  {
   "cell_type": "code",
   "execution_count": 10,
   "metadata": {},
   "outputs": [
    {
     "name": "stdout",
     "output_type": "stream",
     "text": [
      "56.301145662847794\n"
     ]
    }
   ],
   "source": [
    "y_pred_hot = model.predict(x_test)\n",
    "y_pred = np.array(y_pred_hot.argmax(axis=1))\n",
    "correct = 0\n",
    "for i in range(len(y_test)):\n",
    "    if(y_pred[i]==y_test[i]):\n",
    "        correct += 1\n",
    "        \n",
    "test_acc = 100.0*(correct/len(y_test))\n",
    "print(test_acc)"
   ]
  },
  {
   "cell_type": "code",
   "execution_count": 12,
   "metadata": {},
   "outputs": [
    {
     "name": "stdout",
     "output_type": "stream",
     "text": [
      "Softmax Output Shape:  (3666, 10)\n"
     ]
    },
    {
     "data": {
      "image/png": "[encoded data removed]",
      "text/plain": [
       "<Figure size 432x288 with 6 Axes>"
      ]
     },
     "metadata": {
      "needs_background": "light"
     },
     "output_type": "display_data"
    }
   ],
   "source": [
    "y_pred_hot = np.array(y_pred_hot)\n",
    "print(\"Softmax Output Shape: \",y_pred_hot.shape)\n",
    "plt_x = np.arange(1,11,1)\n",
    "width = [0.3]\n",
    "width = np.repeat(width,10)\n",
    "for i in range(3):\n",
    "    plt.subplot(3,2,2*(i+1)-1)\n",
    "    plt.imshow(x_test[i])\n",
    "    plt.title(names[y_test[i]])\n",
    "    plt.subplot(3,2,2*(i+1))\n",
    "    plt.bar(plt_x,y_pred_hot[i],width)\n",
    "    \n",
    "plt.show()"
   ]
  },
  {
   "cell_type": "code",
   "execution_count": null,
   "metadata": {},
   "outputs": [],
   "source": []
  }
 ],
 "metadata": {
  "kernelspec": {
   "display_name": "Python 3",
   "language": "python",
   "name": "python3"
  },
  "language_info": {
   "codemirror_mode": {
    "name": "ipython",
    "version": 3
   },
   "file_extension": ".py",
   "mimetype": "text/x-python",
   "name": "python",
   "nbconvert_exporter": "python",
   "pygments_lexer": "ipython3",
   "version": "3.7.6"
  }
 },
 "nbformat": 4,
 "nbformat_minor": 4
}
