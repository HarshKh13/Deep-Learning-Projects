{
 "cells": [
  {
   "cell_type": "code",
   "execution_count": 1,
   "metadata": {},
   "outputs": [],
   "source": [
    "import numpy as np\n",
    "import tensorflow as tf\n",
    "import matplotlib.pyplot as plt\n",
    "import random"
   ]
  },
  {
   "cell_type": "code",
   "execution_count": 10,
   "metadata": {},
   "outputs": [
    {
     "name": "stdout",
     "output_type": "stream",
     "text": [
      "Number of Training Samples:  54000\n",
      "Number of Valid samples:  6000\n",
      "Number of Test samples:  10000\n",
      "<class 'numpy.ndarray'>\n"
     ]
    }
   ],
   "source": [
    "(x1_train,y1_train),(x_test,y_test) = tf.keras.datasets.mnist.load_data()\n",
    "def split_data(x1_train,y1_train,train_size=0.9,shuffle=True):\n",
    "    size = len(x1_train)\n",
    "    indices = np.arange(size)\n",
    "    if shuffle==True:\n",
    "        np.random.shuffle(indices)\n",
    "        \n",
    "    train_samples = int(train_size*size)\n",
    "\n",
    "    x_train = x1_train[indices[:train_samples]]\n",
    "    y_train = y1_train[indices[:train_samples]]\n",
    "    x_val = x1_train[indices[train_samples:]]\n",
    "    y_val = y1_train[indices[train_samples:]]\n",
    "    return x_train,x_val,y_train,y_val\n",
    "\n",
    "x_train,x_valid,y_train,y_valid = split_data(np.array(x1_train),np.array(y1_train))\n",
    "print('Number of Training Samples: ',len(x_train))\n",
    "print('Number of Valid samples: ',len(x_valid))\n",
    "print('Number of Test samples: ',len(x_test))"
   ]
  },
  {
   "cell_type": "code",
   "execution_count": 3,
   "metadata": {},
   "outputs": [
    {
     "name": "stdout",
     "output_type": "stream",
     "text": [
      "(28, 28)\n"
     ]
    }
   ],
   "source": [
    "print(x_train[0].shape)"
   ]
  },
  {
   "cell_type": "code",
   "execution_count": 4,
   "metadata": {},
   "outputs": [
    {
     "data": {
      "image/png": "[encoded data removed]",
      "text/plain": [
       "<Figure size 432x288 with 5 Axes>"
      ]
     },
     "metadata": {
      "needs_background": "light"
     },
     "output_type": "display_data"
    }
   ],
   "source": [
    "for i in range(5):\n",
    "    plt.subplot(1,5,i+1)\n",
    "    plt.imshow(x_train[i])\n",
    "    plt.title(y_train[i])"
   ]
  },
  {
   "cell_type": "code",
   "execution_count": 11,
   "metadata": {},
   "outputs": [],
   "source": [
    "x_train = x_train.reshape(x_train.shape[0],-1)\n",
    "x_test = x_test.reshape(x_test.shape[0],-1)\n",
    "x_valid = x_valid.reshape(x_valid.shape[0],-1)"
   ]
  },
  {
   "cell_type": "code",
   "execution_count": 12,
   "metadata": {},
   "outputs": [
    {
     "name": "stdout",
     "output_type": "stream",
     "text": [
      "Model: \"functional_3\"\n",
      "_________________________________________________________________\n",
      "Layer (type)                 Output Shape              Param #   \n",
      "=================================================================\n",
      "input (InputLayer)           [(None, 784)]             0         \n",
      "_________________________________________________________________\n",
      "hidden1 (Dense)              (None, 128)               100480    \n",
      "_________________________________________________________________\n",
      "hidden2 (Dense)              (None, 256)               33024     \n",
      "_________________________________________________________________\n",
      "output (Dense)               (None, 10)                2570      \n",
      "=================================================================\n",
      "Total params: 136,074\n",
      "Trainable params: 136,074\n",
      "Non-trainable params: 0\n",
      "_________________________________________________________________\n"
     ]
    }
   ],
   "source": [
    "def build_model():\n",
    "    inputs = tf.keras.Input(shape=(x_train.shape[1]),name='input')\n",
    "    x = tf.keras.layers.Dense(128,activation='relu',name='hidden1')(inputs)\n",
    "    x = tf.keras.layers.Dense(256,activation='relu',name='hidden2')(x)\n",
    "    outputs = tf.keras.layers.Dense(10,activation='softmax',name='output')(x)\n",
    "    model = tf.keras.models.Model(inputs=inputs, outputs=outputs)\n",
    "    model.compile(optimizer=\"Adam\", loss=\"sparse_categorical_crossentropy\", metrics=[\"accuracy\"])\n",
    "    return model\n",
    "\n",
    "model = build_model()\n",
    "model.summary()"
   ]
  },
  {
   "cell_type": "code",
   "execution_count": 13,
   "metadata": {},
   "outputs": [
    {
     "name": "stdout",
     "output_type": "stream",
     "text": [
      "Epoch 1/10\n",
      "900/900 [==============================] - 2s 2ms/step - loss: 1.6536 - accuracy: 0.8685 - val_loss: 0.4453 - val_accuracy: 0.9205\n",
      "Epoch 2/10\n",
      "900/900 [==============================] - 2s 2ms/step - loss: 0.4103 - accuracy: 0.9255 - val_loss: 0.3695 - val_accuracy: 0.9270\n",
      "Epoch 3/10\n",
      "900/900 [==============================] - 2s 2ms/step - loss: 0.2874 - accuracy: 0.9381 - val_loss: 0.3432 - val_accuracy: 0.9260\n",
      "Epoch 4/10\n",
      "900/900 [==============================] - 2s 2ms/step - loss: 0.2455 - accuracy: 0.9452 - val_loss: 0.2538 - val_accuracy: 0.9472\n",
      "Epoch 5/10\n",
      "900/900 [==============================] - 2s 2ms/step - loss: 0.1877 - accuracy: 0.9562 - val_loss: 0.2169 - val_accuracy: 0.9493\n",
      "Epoch 6/10\n",
      "900/900 [==============================] - 1s 2ms/step - loss: 0.1488 - accuracy: 0.9611 - val_loss: 0.1622 - val_accuracy: 0.9597\n",
      "Epoch 7/10\n",
      "900/900 [==============================] - 1s 2ms/step - loss: 0.1226 - accuracy: 0.9669 - val_loss: 0.1787 - val_accuracy: 0.9610\n",
      "Epoch 8/10\n",
      "900/900 [==============================] - 1s 2ms/step - loss: 0.1120 - accuracy: 0.9698 - val_loss: 0.1680 - val_accuracy: 0.9572\n",
      "Epoch 9/10\n",
      "900/900 [==============================] - 1s 2ms/step - loss: 0.1015 - accuracy: 0.9718 - val_loss: 0.1526 - val_accuracy: 0.9623\n",
      "Epoch 10/10\n",
      "900/900 [==============================] - 1s 2ms/step - loss: 0.0938 - accuracy: 0.9742 - val_loss: 0.1628 - val_accuracy: 0.9630\n"
     ]
    },
    {
     "data": {
      "text/plain": [
       "<tensorflow.python.keras.callbacks.History at 0x214f1544ec8>"
      ]
     },
     "execution_count": 13,
     "metadata": {},
     "output_type": "execute_result"
    }
   ],
   "source": [
    "num_epochs = 10\n",
    "batch_size = 60\n",
    "validation_dataset = (x_valid,y_valid)\n",
    "model.fit(x_train,y_train,batch_size=batch_size,\n",
    "          validation_data = validation_dataset,\n",
    "          epochs=num_epochs)"
   ]
  },
  {
   "cell_type": "code",
   "execution_count": 20,
   "metadata": {},
   "outputs": [
    {
     "name": "stdout",
     "output_type": "stream",
     "text": [
      "96.16\n"
     ]
    }
   ],
   "source": [
    "y_pred = model.predict(x_test).argmax(axis=1)\n",
    "y_pred = np.array(y_pred)\n",
    "correct = 0\n",
    "for i in range(len(y_test)):\n",
    "    if(y_pred[i]==y_test[i]):\n",
    "        correct += 1\n",
    "        \n",
    "test_acc = 100.0*(correct/len(y_test))\n",
    "print(test_acc)"
   ]
  }
 ],
 "metadata": {
  "kernelspec": {
   "display_name": "Python 3",
   "language": "python",
   "name": "python3"
  },
  "language_info": {
   "codemirror_mode": {
    "name": "ipython",
    "version": 3
   },
   "file_extension": ".py",
   "mimetype": "text/x-python",
   "name": "python",
   "nbconvert_exporter": "python",
   "pygments_lexer": "ipython3",
   "version": "3.7.6"
  }
 },
 "nbformat": 4,
 "nbformat_minor": 4
}
